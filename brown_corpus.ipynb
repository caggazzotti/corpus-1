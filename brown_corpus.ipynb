{
 "cells": [
  {
   "cell_type": "code",
   "execution_count": 1,
   "metadata": {
    "collapsed": true
   },
   "outputs": [],
   "source": [
    "# This code assumes you have downloaded nltk (pip install nltk) and that you have downloaded the nltk data.\n",
    "\n",
    "# To download nltk data, open python and do the following:\n",
    "\n",
    "# import nltk\n",
    "# nltk.download()\n",
    "\n",
    "# This produces a box that lets you download the necessary corpora."
   ]
  },
  {
   "cell_type": "code",
   "execution_count": 2,
   "metadata": {
    "collapsed": true
   },
   "outputs": [],
   "source": [
    "import nltk\n",
    "from nltk.corpus import brown"
   ]
  },
  {
   "cell_type": "code",
   "execution_count": 3,
   "metadata": {},
   "outputs": [
    {
     "name": "stdout",
     "output_type": "stream",
     "text": [
      "<class 'nltk.corpus.util.LazyCorpusLoader'>\n"
     ]
    }
   ],
   "source": [
    "# brown is a corpus.reader object\n",
    "#http://www.nltk.org/api/nltk.corpus.reader.html\n",
    "print type(brown)"
   ]
  },
  {
   "cell_type": "code",
   "execution_count": 4,
   "metadata": {},
   "outputs": [
    {
     "name": "stdout",
     "output_type": "stream",
     "text": [
      "[u'ca01', u'ca02', u'ca03', u'ca04', u'ca05', u'ca06', u'ca07', u'ca08', u'ca09', u'ca10', u'ca11', u'ca12', u'ca13', u'ca14', u'ca15', u'ca16', u'ca17', u'ca18', u'ca19', u'ca20', u'ca21', u'ca22', u'ca23', u'ca24', u'ca25', u'ca26', u'ca27', u'ca28', u'ca29', u'ca30', u'ca31', u'ca32', u'ca33', u'ca34', u'ca35', u'ca36', u'ca37', u'ca38', u'ca39', u'ca40', u'ca41', u'ca42', u'ca43', u'ca44', u'cb01', u'cb02', u'cb03', u'cb04', u'cb05', u'cb06', u'cb07', u'cb08', u'cb09', u'cb10', u'cb11', u'cb12', u'cb13', u'cb14', u'cb15', u'cb16', u'cb17', u'cb18', u'cb19', u'cb20', u'cb21', u'cb22', u'cb23', u'cb24', u'cb25', u'cb26', u'cb27', u'cc01', u'cc02', u'cc03', u'cc04', u'cc05', u'cc06', u'cc07', u'cc08', u'cc09', u'cc10', u'cc11', u'cc12', u'cc13', u'cc14', u'cc15', u'cc16', u'cc17', u'cd01', u'cd02', u'cd03', u'cd04', u'cd05', u'cd06', u'cd07', u'cd08', u'cd09', u'cd10', u'cd11', u'cd12', u'cd13', u'cd14', u'cd15', u'cd16', u'cd17', u'ce01', u'ce02', u'ce03', u'ce04', u'ce05', u'ce06', u'ce07', u'ce08', u'ce09', u'ce10', u'ce11', u'ce12', u'ce13', u'ce14', u'ce15', u'ce16', u'ce17', u'ce18', u'ce19', u'ce20', u'ce21', u'ce22', u'ce23', u'ce24', u'ce25', u'ce26', u'ce27', u'ce28', u'ce29', u'ce30', u'ce31', u'ce32', u'ce33', u'ce34', u'ce35', u'ce36', u'cf01', u'cf02', u'cf03', u'cf04', u'cf05', u'cf06', u'cf07', u'cf08', u'cf09', u'cf10', u'cf11', u'cf12', u'cf13', u'cf14', u'cf15', u'cf16', u'cf17', u'cf18', u'cf19', u'cf20', u'cf21', u'cf22', u'cf23', u'cf24', u'cf25', u'cf26', u'cf27', u'cf28', u'cf29', u'cf30', u'cf31', u'cf32', u'cf33', u'cf34', u'cf35', u'cf36', u'cf37', u'cf38', u'cf39', u'cf40', u'cf41', u'cf42', u'cf43', u'cf44', u'cf45', u'cf46', u'cf47', u'cf48', u'cg01', u'cg02', u'cg03', u'cg04', u'cg05', u'cg06', u'cg07', u'cg08', u'cg09', u'cg10', u'cg11', u'cg12', u'cg13', u'cg14', u'cg15', u'cg16', u'cg17', u'cg18', u'cg19', u'cg20', u'cg21', u'cg22', u'cg23', u'cg24', u'cg25', u'cg26', u'cg27', u'cg28', u'cg29', u'cg30', u'cg31', u'cg32', u'cg33', u'cg34', u'cg35', u'cg36', u'cg37', u'cg38', u'cg39', u'cg40', u'cg41', u'cg42', u'cg43', u'cg44', u'cg45', u'cg46', u'cg47', u'cg48', u'cg49', u'cg50', u'cg51', u'cg52', u'cg53', u'cg54', u'cg55', u'cg56', u'cg57', u'cg58', u'cg59', u'cg60', u'cg61', u'cg62', u'cg63', u'cg64', u'cg65', u'cg66', u'cg67', u'cg68', u'cg69', u'cg70', u'cg71', u'cg72', u'cg73', u'cg74', u'cg75', u'ch01', u'ch02', u'ch03', u'ch04', u'ch05', u'ch06', u'ch07', u'ch08', u'ch09', u'ch10', u'ch11', u'ch12', u'ch13', u'ch14', u'ch15', u'ch16', u'ch17', u'ch18', u'ch19', u'ch20', u'ch21', u'ch22', u'ch23', u'ch24', u'ch25', u'ch26', u'ch27', u'ch28', u'ch29', u'ch30', u'cj01', u'cj02', u'cj03', u'cj04', u'cj05', u'cj06', u'cj07', u'cj08', u'cj09', u'cj10', u'cj11', u'cj12', u'cj13', u'cj14', u'cj15', u'cj16', u'cj17', u'cj18', u'cj19', u'cj20', u'cj21', u'cj22', u'cj23', u'cj24', u'cj25', u'cj26', u'cj27', u'cj28', u'cj29', u'cj30', u'cj31', u'cj32', u'cj33', u'cj34', u'cj35', u'cj36', u'cj37', u'cj38', u'cj39', u'cj40', u'cj41', u'cj42', u'cj43', u'cj44', u'cj45', u'cj46', u'cj47', u'cj48', u'cj49', u'cj50', u'cj51', u'cj52', u'cj53', u'cj54', u'cj55', u'cj56', u'cj57', u'cj58', u'cj59', u'cj60', u'cj61', u'cj62', u'cj63', u'cj64', u'cj65', u'cj66', u'cj67', u'cj68', u'cj69', u'cj70', u'cj71', u'cj72', u'cj73', u'cj74', u'cj75', u'cj76', u'cj77', u'cj78', u'cj79', u'cj80', u'ck01', u'ck02', u'ck03', u'ck04', u'ck05', u'ck06', u'ck07', u'ck08', u'ck09', u'ck10', u'ck11', u'ck12', u'ck13', u'ck14', u'ck15', u'ck16', u'ck17', u'ck18', u'ck19', u'ck20', u'ck21', u'ck22', u'ck23', u'ck24', u'ck25', u'ck26', u'ck27', u'ck28', u'ck29', u'cl01', u'cl02', u'cl03', u'cl04', u'cl05', u'cl06', u'cl07', u'cl08', u'cl09', u'cl10', u'cl11', u'cl12', u'cl13', u'cl14', u'cl15', u'cl16', u'cl17', u'cl18', u'cl19', u'cl20', u'cl21', u'cl22', u'cl23', u'cl24', u'cm01', u'cm02', u'cm03', u'cm04', u'cm05', u'cm06', u'cn01', u'cn02', u'cn03', u'cn04', u'cn05', u'cn06', u'cn07', u'cn08', u'cn09', u'cn10', u'cn11', u'cn12', u'cn13', u'cn14', u'cn15', u'cn16', u'cn17', u'cn18', u'cn19', u'cn20', u'cn21', u'cn22', u'cn23', u'cn24', u'cn25', u'cn26', u'cn27', u'cn28', u'cn29', u'cp01', u'cp02', u'cp03', u'cp04', u'cp05', u'cp06', u'cp07', u'cp08', u'cp09', u'cp10', u'cp11', u'cp12', u'cp13', u'cp14', u'cp15', u'cp16', u'cp17', u'cp18', u'cp19', u'cp20', u'cp21', u'cp22', u'cp23', u'cp24', u'cp25', u'cp26', u'cp27', u'cp28', u'cp29', u'cr01', u'cr02', u'cr03', u'cr04', u'cr05', u'cr06', u'cr07', u'cr08', u'cr09']\n"
     ]
    }
   ],
   "source": [
    "# the brown corpus is made up of many files\n",
    "# We can ignore this for the most part if we want to\n",
    "# work with the whole corpus and not individual files\n",
    "files = brown.fileids()\n",
    "print files"
   ]
  },
  {
   "cell_type": "code",
   "execution_count": 5,
   "metadata": {},
   "outputs": [],
   "source": [
    "# sents(fileids=None) returns the given files as a list of sentences, each of which is a list of word strings\n",
    "# using sents() with no arguments gives you sentences from all files in the corpus\n",
    "# return type: list(list(str))\n",
    "\n",
    "# words(fileids=None) returns the given fields as a list of words and punctuation symbols.\n",
    "sentences = brown.sents()\n",
    "words = brown.words()"
   ]
  },
  {
   "cell_type": "code",
   "execution_count": 6,
   "metadata": {},
   "outputs": [
    {
     "name": "stdout",
     "output_type": "stream",
     "text": [
      "# sentences: 57340\n",
      "# words 1161192\n"
     ]
    }
   ],
   "source": [
    "num_sentences = len(sentences)\n",
    "num_words = len(words)\n",
    "print \"# sentences:\",num_sentences\n",
    "print \"# words\",num_words"
   ]
  },
  {
   "cell_type": "code",
   "execution_count": 7,
   "metadata": {},
   "outputs": [
    {
     "name": "stdout",
     "output_type": "stream",
     "text": [
      "[u'``', u'The', u'statements', u'may', u'be', u'highly', u'prejudicial', u'to', u'my', u'client', u\"''\", u',', u'Bellows', u'told', u'the', u'court', u'.']\n"
     ]
    }
   ],
   "source": [
    "# the u in u'somestring' just means unicode. This is a very reliable encoding, but careful because\n",
    "# python will not always say that 'mark' == u'mark'\n",
    "print sentences[201]"
   ]
  },
  {
   "cell_type": "code",
   "execution_count": 8,
   "metadata": {},
   "outputs": [
    {
     "name": "stdout",
     "output_type": "stream",
     "text": [
      "[u\"Atlanta's\", u'recent', u'primary', u'election', u'produced', u'``', u'no', u'evidence', u\"''\", u'that', u'any', u'irregularities', u'took', u'place', u'.', u'The', u'jury', u'further', u'said', u'in']\n"
     ]
    }
   ],
   "source": [
    "print words[10:30]"
   ]
  },
  {
   "cell_type": "code",
   "execution_count": 9,
   "metadata": {},
   "outputs": [
    {
     "name": "stdout",
     "output_type": "stream",
     "text": [
      "\n",
      "\n",
      "\tThe/at Fulton/np-tl County/nn-tl Grand/jj-tl Jury/nn-tl said/vbd Friday/nr an/at investigation/nn of/in Atlanta's/np$ recent/jj primary/nn election/nn produced/vbd ``/`` no/at evidence/nn ''/'' tha\n"
     ]
    }
   ],
   "source": [
    "# raw(filesids=None) gives you a single string, where the characters form words and their tags\n",
    "raw = brown.raw()\n",
    "print raw[:200]"
   ]
  },
  {
   "cell_type": "code",
   "execution_count": 10,
   "metadata": {},
   "outputs": [
    {
     "name": "stdout",
     "output_type": "stream",
     "text": [
      "The Fulton County Grand Jury said Friday an investigation of Atlanta's recent primary election produced `` no evidence '' that any irregularities took place . The jury further said in term-end presentments that the City Executive Committee , which had over-all charge of the election , `` deserves the praise and thanks of the City of Atlanta '' for the manner in which the election was conducted . The September-October term jury had been charged by Fulton Superior Court Judge Durwood Pye to investigate reports of possible `` irregularities '' in the hard-fought primary which was won by Mayor-nominate Ivan Allen Jr. . `` Only a relative handful of such reports was received '' , the jury said , `` considering the widespread interest in the election , the number of voters and the size of this city '' . The jury said it did find that many of Georgia's registration and election laws `` are outmoded or inadequate and often ambiguous '' . It recommended that Fulton legislators act `` to have th\n"
     ]
    }
   ],
   "source": [
    "# This takes the big stream of words and turns them into a single string. This is different from \"raw\"\n",
    "# because it has no tags, and differs from \"sentences\" and \"words\" because it is a single string and not a list.\n",
    "whole_corpus = ' '.join(words)\n",
    "print whole_corpus[:1000]"
   ]
  },
  {
   "cell_type": "code",
   "execution_count": 11,
   "metadata": {},
   "outputs": [
    {
     "name": "stdout",
     "output_type": "stream",
     "text": [
      "the fulton county grand jury said friday an investigation of atlanta's recent primary election produced `` no evidence '' that any irregularities took place . the jury further said in term-end presentments that the city executive committee , which had over-all charge of the election , `` deserves the praise and thanks of the city of atlanta '' for the manner in which the election was conducted . the september-october term jury had been charged by fulton superior court judge durwood pye to investigate reports of possible `` irregularities '' in the hard-fought primary which was won by mayor-nominate ivan allen jr. . `` only a relative handful of such reports was received '' , the jury said , `` considering the widespread interest in the election , the number of voters and the size of this city '' . the jury said it did find that many of georgia's registration and election laws `` are outmoded or inadequate and often ambiguous '' . it recommended that fulton legislators act `` to have th\n"
     ]
    }
   ],
   "source": [
    "whole_corpus = whole_corpus.lower()\n",
    "print whole_corpus[:1000]"
   ]
  },
  {
   "cell_type": "code",
   "execution_count": 12,
   "metadata": {},
   "outputs": [],
   "source": [
    "# Now you have all of the sentences in a format independent of NLTK: just a list of sentences.\n",
    "# You can now define any kind of regex stuff you want to search over these\n",
    "# But I don't know much about regex!"
   ]
  },
  {
   "cell_type": "code",
   "execution_count": 13,
   "metadata": {
    "collapsed": true
   },
   "outputs": [],
   "source": [
    "import re\n",
    "\n",
    "def find_matches(pattern,text_to_search):\n",
    "    for match in re.finditer(pattern,text_to_search):\n",
    "        s = match.start()\n",
    "        e = match.end()\n",
    "        print 'Found \"%s\" at symbol [%d] through symbol [%d]' % (text_to_search[s:e], s, e)"
   ]
  },
  {
   "cell_type": "code",
   "execution_count": 14,
   "metadata": {},
   "outputs": [
    {
     "name": "stdout",
     "output_type": "stream",
     "text": [
      "Found \"recent primary election\" at symbol [71] through symbol [94]\n"
     ]
    }
   ],
   "source": [
    "# search for a simple literal string\n",
    "find_matches(\"recent primary election\",whole_corpus)"
   ]
  },
  {
   "cell_type": "code",
   "execution_count": 15,
   "metadata": {},
   "outputs": [
    {
     "name": "stdout",
     "output_type": "stream",
     "text": [
      "recent primary election produced \n"
     ]
    }
   ],
   "source": [
    "# Great, the positions were correct.\n",
    "print whole_corpus[71:104]"
   ]
  },
  {
   "cell_type": "code",
   "execution_count": 16,
   "metadata": {
    "collapsed": true
   },
   "outputs": [],
   "source": [
    "# instead of printing, you could modify find_matches() to return a list of matches,\n",
    "# each of which is a tuple of (start_position,end_position)\n",
    "def find_matches(pattern,text_to_search):\n",
    "    return [(match.start(),match.end()) for match in re.finditer(pattern,text_to_search)]"
   ]
  },
  {
   "cell_type": "code",
   "execution_count": 17,
   "metadata": {
    "collapsed": true
   },
   "outputs": [],
   "source": [
    "list_of_matches = find_matches(\"recent primary election\",whole_corpus)"
   ]
  },
  {
   "cell_type": "code",
   "execution_count": 18,
   "metadata": {},
   "outputs": [
    {
     "name": "stdout",
     "output_type": "stream",
     "text": [
      "pattern searched: 'recent primary election'\n",
      "nummber of matches: 1\n",
      "start position: 71\n",
      "end position: 94\n",
      "\n"
     ]
    }
   ],
   "source": [
    "list_of_matches = find_matches(\"recent primary election\",whole_corpus)\n",
    "print \"pattern searched:\",\"'recent primary election'\"\n",
    "print \"nummber of matches:\",len(list_of_matches)\n",
    "\n",
    "# It's a list of tuples, so you can grab each part with this construction:\n",
    "# for i,j in [(i1,j1),(i2,j2),(i3,j3),...]\n",
    "for start,end in list_of_matches:\n",
    "    print \"start position:\",start\n",
    "    print \"end position:\",end\n",
    "    print \"\""
   ]
  }
 ],
 "metadata": {
  "kernelspec": {
   "display_name": "Python 2",
   "language": "python",
   "name": "python2"
  },
  "language_info": {
   "codemirror_mode": {
    "name": "ipython",
    "version": 2
   },
   "file_extension": ".py",
   "mimetype": "text/x-python",
   "name": "python",
   "nbconvert_exporter": "python",
   "pygments_lexer": "ipython2",
   "version": "2.7.13"
  }
 },
 "nbformat": 4,
 "nbformat_minor": 2
}
