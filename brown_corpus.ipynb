{
 "cells": [
  {
   "cell_type": "code",
   "execution_count": 1,
   "metadata": {
    "collapsed": true
   },
   "outputs": [],
   "source": [
    "# This code assumes you have downloaded nltk (pip install nltk)\n",
    "# and that you have downloaded the nltk data"
   ]
  },
  {
   "cell_type": "code",
   "execution_count": 2,
   "metadata": {
    "collapsed": true
   },
   "outputs": [],
   "source": [
    "import nltk\n",
    "from nltk.corpus import brown"
   ]
  },
  {
   "cell_type": "code",
   "execution_count": 3,
   "metadata": {},
   "outputs": [
    {
     "name": "stdout",
     "output_type": "stream",
     "text": [
      "<class 'nltk.corpus.util.LazyCorpusLoader'>\n"
     ]
    }
   ],
   "source": [
    "# brown is a corpus.reader object\n",
    "# http://www.nltk.org/api/nltk.corpus.reader.html\n",
    "print type(brown)"
   ]
  },
  {
   "cell_type": "code",
   "execution_count": 4,
   "metadata": {},
   "outputs": [
    {
     "name": "stdout",
     "output_type": "stream",
     "text": [
      "ca01\n"
     ]
    }
   ],
   "source": [
    "# the Brown corpus is made up of many files\n",
    "# We can ignore this for the most part if we want to\n",
    "# work with the whole corpus and not individual files\n",
    "file_ids = brown.fileids()\n",
    "print file_ids[0]"
   ]
  },
  {
   "cell_type": "code",
   "execution_count": 5,
   "metadata": {
    "collapsed": true
   },
   "outputs": [],
   "source": [
    "# sents() returns a list of sentences, each of which is a list of word strings.\n",
    "# words() returns a single list of words and punctuation symbols\n",
    "# With no parameters, these functions load the whole corpus\n",
    "sentences = brown.sents()\n",
    "words = brown.words()"
   ]
  },
  {
   "cell_type": "code",
   "execution_count": 6,
   "metadata": {},
   "outputs": [
    {
     "name": "stdout",
     "output_type": "stream",
     "text": [
      "# sentences: 57340\n",
      "# words: 1161192\n"
     ]
    }
   ],
   "source": [
    "num_sentences = len(sentences)\n",
    "num_words = len(words)\n",
    "print \"# sentences:\",num_sentences\n",
    "print \"# words:\",num_words"
   ]
  },
  {
   "cell_type": "code",
   "execution_count": 7,
   "metadata": {},
   "outputs": [
    {
     "name": "stdout",
     "output_type": "stream",
     "text": [
      "[u'``', u'The', u'statements', u'may', u'be', u'highly', u'prejudicial', u'to', u'my', u'client', u\"''\", u',', u'Bellows', u'told', u'the', u'court', u'.']\n"
     ]
    }
   ],
   "source": [
    "# the u in u'somestring' just means unicode. \n",
    "# This is a very reliable encoding, but careful:\n",
    "# python will not always say that 'mark' == u'mark'\n",
    "print sentences[201]"
   ]
  },
  {
   "cell_type": "code",
   "execution_count": 8,
   "metadata": {},
   "outputs": [
    {
     "name": "stdout",
     "output_type": "stream",
     "text": [
      "[u\"Atlanta's\", u'recent', u'primary', u'election', u'produced', u'``', u'no', u'evidence', u\"''\", u'that', u'any', u'irregularities', u'took', u'place', u'.', u'The', u'jury', u'further', u'said', u'in']\n"
     ]
    }
   ],
   "source": [
    "print words[10:30]"
   ]
  },
  {
   "cell_type": "code",
   "execution_count": 9,
   "metadata": {},
   "outputs": [
    {
     "name": "stdout",
     "output_type": "stream",
     "text": [
      "\n",
      "\n",
      "\tThe/at Fulton/np-tl County/nn-tl Grand/jj-tl Jury/nn-tl said/vbd Friday/nr an/at investigation/nn of/in Atlanta's/np$ recent/jj primary/nn election/nn produced/vbd ``/`` no/at evidence/nn ''/'' tha\n"
     ]
    }
   ],
   "source": [
    "# raw() gives you a single string\n",
    "# where the characters form words and their tags\n",
    "raw = brown.raw()\n",
    "print raw[:200]"
   ]
  },
  {
   "cell_type": "code",
   "execution_count": 10,
   "metadata": {},
   "outputs": [
    {
     "name": "stdout",
     "output_type": "stream",
     "text": [
      "The Fulton County Grand Jury said Friday an investigation of Atlanta's recent primary election produced `` no evidence '' that any irregularities took place . The jury further said in term-end presentments that the City Executive Committee , which had over-all charge of the election , `` deserves the praise and thanks of the City of Atlanta '' for the manner in which the election was conducted . The September-October term jury had been charged by Fulton Superior Court Judge Durwood Pye to investigate reports of possible `` irregularities '' in the hard-fought primary which was won by Mayor-nominate Ivan Allen Jr. . `` Only a relative handful of such reports was received '' , the jury said , `` considering the widespread interest in the election , the number of voters and the size of this city '' . The jury said it did find that many of Georgia's registration and election laws `` are outmoded or inadequate and often ambiguous '' . It recommended that Fulton legislators act `` to have th\n"
     ]
    }
   ],
   "source": [
    "# This takes the big stream of words and turns them into a single string.\n",
    "# This is different from \"raw\" because it has no tags\n",
    "# and differs from \"sentences\" and \"words\" because it is a single string and not a list.\n",
    "whole_corpus = ' '.join(words)\n",
    "print whole_corpus[:1000]"
   ]
  },
  {
   "cell_type": "code",
   "execution_count": 11,
   "metadata": {},
   "outputs": [
    {
     "name": "stdout",
     "output_type": "stream",
     "text": [
      "the fulton county grand jury said friday an investigation of atlanta's recent primary election produced `` no evidence '' that any irregularities took place . the jury further said in term-end presentments that the city executive committee , which had over-all charge of the election , `` deserves the praise and thanks of the city of atlanta '' for the manner in which the election was conducted . the september-october term jury had been charged by fulton superior court judge durwood pye to investigate reports of possible `` irregularities '' in the hard-fought primary which was won by mayor-nominate ivan allen jr. . `` only a relative handful of such reports was received '' , the jury said , `` considering the widespread interest in the election , the number of voters and the size of this city '' . the jury said it did find that many of georgia's registration and election laws `` are outmoded or inadequate and often ambiguous '' . it recommended that fulton legislators act `` to have th\n"
     ]
    }
   ],
   "source": [
    "whole_corpus = whole_corpus.lower()\n",
    "print whole_corpus[:1000]"
   ]
  },
  {
   "cell_type": "code",
   "execution_count": 12,
   "metadata": {
    "collapsed": true
   },
   "outputs": [],
   "source": [
    "# Now you have all of the sentences in a format independent of NLTK:\n",
    "# just a list of sentences. You can now define any kind of regex stuff\n",
    "# you want to search over these. I don't know much about regex."
   ]
  },
  {
   "cell_type": "code",
   "execution_count": 13,
   "metadata": {
    "collapsed": true
   },
   "outputs": [],
   "source": [
    "import re\n",
    "\n",
    "def find_matches(pattern,text_to_search):\n",
    "    for match in re.finditer(pattern,text_to_search):\n",
    "        s = match.start()\n",
    "        e = match.end()\n",
    "        print 'Found \"%s\" at symbol [%d] through symbol [%d]' % (text_to_search[s:e], s, e)"
   ]
  },
  {
   "cell_type": "code",
   "execution_count": 14,
   "metadata": {},
   "outputs": [
    {
     "name": "stdout",
     "output_type": "stream",
     "text": [
      "Found \"recent primary election\" at symbol [71] through symbol [94]\n"
     ]
    }
   ],
   "source": [
    "# search for a simple literal string\n",
    "find_matches(\"recent primary election\",whole_corpus)"
   ]
  },
  {
   "cell_type": "code",
   "execution_count": 15,
   "metadata": {},
   "outputs": [
    {
     "name": "stdout",
     "output_type": "stream",
     "text": [
      "recent primary election produced \n"
     ]
    }
   ],
   "source": [
    "# Great, the positions were correct.\n",
    "print whole_corpus[71:104]"
   ]
  },
  {
   "cell_type": "code",
   "execution_count": 16,
   "metadata": {
    "collapsed": true
   },
   "outputs": [],
   "source": [
    "# instead of printing, you could modify find_matches()\n",
    "# to return a list of matches, each of which is a tuple\n",
    "# of (start_position,end_position)\n",
    "def find_matches(pattern,text_to_search):\n",
    "    return [(match.start(),match.end()) for match in re.finditer(pattern,text_to_search)]"
   ]
  },
  {
   "cell_type": "code",
   "execution_count": 17,
   "metadata": {
    "collapsed": true
   },
   "outputs": [],
   "source": [
    "list_of_matches = find_matches(\"recent primary election\",whole_corpus)"
   ]
  },
  {
   "cell_type": "code",
   "execution_count": 18,
   "metadata": {},
   "outputs": [
    {
     "name": "stdout",
     "output_type": "stream",
     "text": [
      "pattern searched: 'recent primary election'\n",
      "nummber of matches: 1\n",
      "start position: 71\n",
      "end position: 94\n",
      "\n"
     ]
    }
   ],
   "source": [
    "list_of_matches = find_matches(\"recent primary election\",whole_corpus)\n",
    "print \"pattern searched:\",\"'recent primary election'\"\n",
    "print \"nummber of matches:\",len(list_of_matches)\n",
    "\n",
    "for start,end in list_of_matches:\n",
    "    print \"start position:\",start\n",
    "    print \"end position:\",end\n",
    "    print \"\""
   ]
  }
 ],
 "metadata": {
  "kernelspec": {
   "display_name": "Python 2",
   "language": "python",
   "name": "python2"
  },
  "language_info": {
   "codemirror_mode": {
    "name": "ipython",
    "version": 2
   },
   "file_extension": ".py",
   "mimetype": "text/x-python",
   "name": "python",
   "nbconvert_exporter": "python",
   "pygments_lexer": "ipython2",
   "version": "2.7.13"
  }
 },
 "nbformat": 4,
 "nbformat_minor": 2
}
